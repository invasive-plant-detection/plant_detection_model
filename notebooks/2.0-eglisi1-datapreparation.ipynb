{
 "cells": [
  {
   "cell_type": "code",
   "execution_count": null,
   "metadata": {},
   "outputs": [],
   "source": [
    "import pandas as pd\n",
    "\n",
    "file_path = \"../data/01_raw/PlantCLEF2022_trusted_training_metadata.csv\"\n",
    "try:\n",
    "    df = pd.read_csv(file_path, delimiter=\";\")\n",
    "    if df.empty:\n",
    "        print(\"The CSV file is empty\")\n",
    "    else:\n",
    "        print(df.head(1))\n",
    "\n",
    "except FileNotFoundError:\n",
    "    print(\n",
    "        f\"File not found: {file_path}. Please check the file path and that the file is downloaded.\"\n",
    "    )"
   ]
  },
  {
   "cell_type": "code",
   "execution_count": null,
   "metadata": {},
   "outputs": [],
   "source": [
    "# Drop columns that are not needed\n",
    "df = df.drop(\n",
    "    columns=[\n",
    "        \"image_name\",\n",
    "        \"source\",\n",
    "        \"manual_tag\",\n",
    "        \"predicted_tag\",\n",
    "        \"predicted_tag_probability\",\n",
    "        \"original_url\",\n",
    "        \"license\",\n",
    "        \"publisher\",\n",
    "        \"gbif_occurrence_id\",\n",
    "        \"aggregator\",\n",
    "        \"dataset_key\",\n",
    "    ]\n",
    ")"
   ]
  },
  {
   "cell_type": "code",
   "execution_count": null,
   "metadata": {},
   "outputs": [],
   "source": [
    "# amount of rows\n",
    "print(df.shape[0])\n",
    "\n",
    "# amount of unique species\n",
    "print(df[\"species\"].nunique())\n",
    "\n",
    "# print unique classes\n",
    "print(df[\"species\"].unique())"
   ]
  },
  {
   "cell_type": "markdown",
   "metadata": {},
   "source": [
    "This are way too many species to train on any device in a reasonable time. Some species might not be necessary to train on, because they are not present in switzerland. I will try to find out which species are present in switzerland and only train on those."
   ]
  },
  {
   "cell_type": "markdown",
   "metadata": {},
   "source": [
    "lets load the list with invasive species from https://www.infoflora.ch/de/neophyten/listen-und-infoblätter.html and see which species are present in switzerland."
   ]
  },
  {
   "cell_type": "code",
   "execution_count": null,
   "metadata": {},
   "outputs": [],
   "source": [
    "file_path = \"../data/01_raw/liste-inv-neoph-ch-2021-d-f-i.csv\"\n",
    "try:\n",
    "    df_neophytes = pd.read_csv(file_path, delimiter=\";\")\n",
    "    if df_neophytes.empty:\n",
    "        print(\"The CSV file is empty\")\n",
    "    else:\n",
    "        print(df_neophytes.head(1))\n",
    "\n",
    "except FileNotFoundError:\n",
    "    print(\n",
    "        f\"File not found: {file_path}. Please check the file path and that the file is downloaded.\"\n",
    "    )"
   ]
  },
  {
   "cell_type": "markdown",
   "metadata": {},
   "source": [
    "minimize the df that only species appear that are present in switzerland and classified."
   ]
  },
  {
   "cell_type": "code",
   "execution_count": null,
   "metadata": {},
   "outputs": [],
   "source": [
    "# Preprocessing\n",
    "def normalize_species(name):\n",
    "    return name.lower().strip()\n",
    "\n",
    "df['species'] = df['species'].apply(normalize_species)\n",
    "df_neophytes['species'] = df_neophytes['Wissenschaftlicher Name'].apply(normalize_species)\n",
    "\n",
    "# Merge dataframes on 'species'\n",
    "merged_df = df.merge(df_neophytes[['species']], on='species', how='inner')\n",
    "\n",
    "# Select desired columns\n",
    "result = merged_df[df.columns]\n",
    "\n",
    "print(result)"
   ]
  },
  {
   "cell_type": "code",
   "execution_count": null,
   "metadata": {},
   "outputs": [],
   "source": [
    "# save the df to a csv file\n",
    "result.to_csv(\"../data/02_processed/merged_data.csv\", index=False, sep=\";\")"
   ]
  }
 ],
 "metadata": {
  "kernelspec": {
   "display_name": "venv",
   "language": "python",
   "name": "python3"
  },
  "language_info": {
   "codemirror_mode": {
    "name": "ipython",
    "version": 3
   },
   "file_extension": ".py",
   "mimetype": "text/x-python",
   "name": "python",
   "nbconvert_exporter": "python",
   "pygments_lexer": "ipython3",
   "version": "3.11.8"
  }
 },
 "nbformat": 4,
 "nbformat_minor": 2
}
