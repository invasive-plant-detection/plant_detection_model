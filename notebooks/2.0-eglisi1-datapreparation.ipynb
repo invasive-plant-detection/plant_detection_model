{
 "cells": [
  {
   "cell_type": "code",
   "execution_count": 7,
   "metadata": {},
   "outputs": [
    {
     "name": "stdout",
     "output_type": "stream",
     "text": [
      "   classid                                    image_name  \\\n",
      "0  2683260  d0749fe4f8ade13dd9402b0f43bc29e8f28af27a.jpg   \n",
      "\n",
      "                                          image_path               species  \\\n",
      "0  2683260/d0749fe4f8ade13dd9402b0f43bc29e8f28af2...  Cycas angulata R.Br.   \n",
      "\n",
      "   genus      family      order        class source manual_tag predicted_tag  \\\n",
      "0  Cycas  Cycadaceae  Cycadales  Cycadopsida    NaN        NaN         habit   \n",
      "\n",
      "   predicted_tag_probability  \\\n",
      "0                     0.7386   \n",
      "\n",
      "                                        original_url  \\\n",
      "0  https://images.ala.org.au/image/proxyImageThum...   \n",
      "\n",
      "                                       license  \\\n",
      "0  http://creativecommons.org/licenses/by/4.0/   \n",
      "\n",
      "                           publisher  gbif_occurrence_id aggregator  \\\n",
      "0  ALA species sightings and OzAtlas        1.632965e+09       gbif   \n",
      "\n",
      "                            dataset_key  \\\n",
      "0  84a649ce-ff81-420d-9c41-aa1de59e3766   \n",
      "\n",
      "                                    image_backup_url  \n",
      "0  https://lab.plantnet.org/LifeCLEF/PlantCLEF202...  \n"
     ]
    }
   ],
   "source": [
    "import pandas as pd\n",
    "\n",
    "file_path = \"../data/01_raw/PlantCLEF2022_trusted_training_metadata.csv\"\n",
    "try:\n",
    "    df = pd.read_csv(file_path, delimiter=\";\")\n",
    "    if df.empty:\n",
    "        print(\"The CSV file is empty\")\n",
    "    else:\n",
    "        print(df.head(1))\n",
    "\n",
    "except FileNotFoundError:\n",
    "    print(\n",
    "        f\"File not found: {file_path}. Please check the file path and that the file is downloaded.\"\n",
    "    )"
   ]
  },
  {
   "cell_type": "code",
   "execution_count": 8,
   "metadata": {},
   "outputs": [],
   "source": [
    "# Drop columns that are not needed\n",
    "df = df.drop(\n",
    "    columns=[\n",
    "        \"image_name\",\n",
    "        \"source\",\n",
    "        \"manual_tag\",\n",
    "        \"predicted_tag\",\n",
    "        \"predicted_tag_probability\",\n",
    "        \"original_url\",\n",
    "        \"license\",\n",
    "        \"publisher\",\n",
    "        \"gbif_occurrence_id\",\n",
    "        \"aggregator\",\n",
    "        \"dataset_key\",\n",
    "    ]\n",
    ")"
   ]
  },
  {
   "cell_type": "code",
   "execution_count": 9,
   "metadata": {},
   "outputs": [
    {
     "name": "stdout",
     "output_type": "stream",
     "text": [
      "2886761\n",
      "80000\n",
      "['Cycas angulata R.Br.' 'Cycas armstrongii Miq.' 'Cycas beddomei Dyer' ...\n",
      " 'Schizaea pusilla Pursh' 'Schizaea robusta Baker'\n",
      " 'Schizaea tenella Kaulf.']\n"
     ]
    }
   ],
   "source": [
    "# amount of rows\n",
    "print(df.shape[0])\n",
    "\n",
    "# amount of unique species\n",
    "print(df[\"species\"].nunique())\n",
    "\n",
    "# print unique classes\n",
    "print(df[\"species\"].unique())"
   ]
  },
  {
   "cell_type": "markdown",
   "metadata": {},
   "source": [
    "This are way too many species to train on any device in a reasonable time. Some species might not be necessary to train on, because they are not present in switzerland. I will try to find out which species are present in switzerland and only train on those."
   ]
  },
  {
   "cell_type": "markdown",
   "metadata": {},
   "source": [
    "lets load the list with invasive species from https://www.infoflora.ch/de/neophyten/listen-und-infoblätter.html and see which species are present in switzerland."
   ]
  },
  {
   "cell_type": "code",
   "execution_count": 12,
   "metadata": {},
   "outputs": [
    {
     "name": "stdout",
     "output_type": "stream",
     "text": [
      "   taxon_id (Info Flora) Wissenschaftlicher Name LIST 2021 Habitus  \\\n",
      "0                1000030    Acacia dealbata Link       INV      Ba   \n",
      "\n",
      "          Name DE Unnamed: 5                                 Unnamed: 6  \\\n",
      "0  Falsche Mimose       link  https://www.infoflora.ch/de/flora/1000030   \n",
      "\n",
      "              Nom FR Unnamed: 8                                 Unnamed: 9  \\\n",
      "0  Mimosa blanchâtre       link  https://www.infoflora.ch/fr/flore/1000030   \n",
      "\n",
      "   ... Unnamed: 11                                Unnamed: 12 Jura Mittelland  \\\n",
      "0  ...        link  https://www.infoflora.ch/it/flora/1000030  NaN          *   \n",
      "\n",
      "  Alpennordflanke Zentralalpen W Zentralalpen O Alpensüdflanke IFL 2014  \\\n",
      "0               *            NaN            NaN             **       WL   \n",
      "\n",
      "  Anhang 2 (FrSV)  \n",
      "0             NaN  \n",
      "\n",
      "[1 rows x 21 columns]\n"
     ]
    }
   ],
   "source": [
    "file_path = \"../data/01_raw/liste-inv-neoph-ch-2021-d-f-i.csv\"\n",
    "try:\n",
    "    df_neophytes = pd.read_csv(file_path, delimiter=\";\")\n",
    "    if df_neophytes.empty:\n",
    "        print(\"The CSV file is empty\")\n",
    "    else:\n",
    "        print(df_neophytes.head(1))\n",
    "\n",
    "except FileNotFoundError:\n",
    "    print(\n",
    "        f\"File not found: {file_path}. Please check the file path and that the file is downloaded.\"\n",
    "    )"
   ]
  },
  {
   "cell_type": "markdown",
   "metadata": {},
   "source": [
    "minimize the df that only species appear that are present in switzerland and classified."
   ]
  },
  {
   "cell_type": "code",
   "execution_count": 15,
   "metadata": {},
   "outputs": [
    {
     "name": "stdout",
     "output_type": "stream",
     "text": [
      "      classid                                         image_path  \\\n",
      "0     5328909  5328909/de73353bbf8431ec594df8c0c070fa5d562756...   \n",
      "1     5328909  5328909/cb1b1aac1895f8f5a52e1c85ef8ceae7580e68...   \n",
      "2     5328909  5328909/4bdb06e3f9b4b61c9ed2a269498d064b41b1d0...   \n",
      "3     5328909  5328909/2e5095764b764e63fca8150bab3aa1bbc2157a...   \n",
      "4     5328909  5328909/9886a43a74aa9c493667235bb98786df965706...   \n",
      "...       ...                                                ...   \n",
      "4135  2650107  2650107/0bfd87eb9b212f51169fb11d6f93117f47da55...   \n",
      "4136  2650107  2650107/875bf244d751fd70fa3c5878052ac9b59d2a16...   \n",
      "4137  2650107  2650107/929e6a561868452e7471ff9ade24a596bc6b7a...   \n",
      "4138  2650107  2650107/9ded7167346ee1d1dc989a7a1d504b850280a2...   \n",
      "4139  2650107  2650107/37e467f9e687ea6b2ad5127551cbe5ecb93717...   \n",
      "\n",
      "                          species       genus        family        order  \\\n",
      "0     sagittaria latifolia willd.  Sagittaria  Alismataceae  Alismatales   \n",
      "1     sagittaria latifolia willd.  Sagittaria  Alismataceae  Alismatales   \n",
      "2     sagittaria latifolia willd.  Sagittaria  Alismataceae  Alismatales   \n",
      "3     sagittaria latifolia willd.  Sagittaria  Alismataceae  Alismatales   \n",
      "4     sagittaria latifolia willd.  Sagittaria  Alismataceae  Alismatales   \n",
      "...                           ...         ...           ...          ...   \n",
      "4135     azolla filiculoides lam.      Azolla  Salviniaceae  Salviniales   \n",
      "4136     azolla filiculoides lam.      Azolla  Salviniaceae  Salviniales   \n",
      "4137     azolla filiculoides lam.      Azolla  Salviniaceae  Salviniales   \n",
      "4138     azolla filiculoides lam.      Azolla  Salviniaceae  Salviniales   \n",
      "4139     azolla filiculoides lam.      Azolla  Salviniaceae  Salviniales   \n",
      "\n",
      "               class                                   image_backup_url  \n",
      "0         Liliopsida  https://lab.plantnet.org/LifeCLEF/PlantCLEF202...  \n",
      "1         Liliopsida  https://lab.plantnet.org/LifeCLEF/PlantCLEF202...  \n",
      "2         Liliopsida  https://lab.plantnet.org/LifeCLEF/PlantCLEF202...  \n",
      "3         Liliopsida  https://lab.plantnet.org/LifeCLEF/PlantCLEF202...  \n",
      "4         Liliopsida  https://lab.plantnet.org/LifeCLEF/PlantCLEF202...  \n",
      "...              ...                                                ...  \n",
      "4135  Polypodiopsida  https://lab.plantnet.org/LifeCLEF/PlantCLEF202...  \n",
      "4136  Polypodiopsida  https://lab.plantnet.org/LifeCLEF/PlantCLEF202...  \n",
      "4137  Polypodiopsida  https://lab.plantnet.org/LifeCLEF/PlantCLEF202...  \n",
      "4138  Polypodiopsida  https://lab.plantnet.org/LifeCLEF/PlantCLEF202...  \n",
      "4139  Polypodiopsida  https://lab.plantnet.org/LifeCLEF/PlantCLEF202...  \n",
      "\n",
      "[4140 rows x 8 columns]\n"
     ]
    }
   ],
   "source": [
    "# Preprocessing\n",
    "def normalize_species(name):\n",
    "    return name.lower().strip()\n",
    "\n",
    "df['species'] = df['species'].apply(normalize_species)\n",
    "df_neophytes['species'] = df_neophytes['Wissenschaftlicher Name'].apply(normalize_species)\n",
    "\n",
    "# Merge dataframes on 'species'\n",
    "merged_df = df.merge(df_neophytes[['species']], on='species', how='inner')\n",
    "\n",
    "# Select desired columns\n",
    "result = merged_df[df.columns]\n",
    "\n",
    "print(result)"
   ]
  },
  {
   "cell_type": "code",
   "execution_count": 17,
   "metadata": {},
   "outputs": [],
   "source": [
    "# save the df to a csv file\n",
    "result.to_csv(\"../data/02_processed/merged_data.csv\", index=False)"
   ]
  }
 ],
 "metadata": {
  "kernelspec": {
   "display_name": "venv",
   "language": "python",
   "name": "python3"
  },
  "language_info": {
   "codemirror_mode": {
    "name": "ipython",
    "version": 3
   },
   "file_extension": ".py",
   "mimetype": "text/x-python",
   "name": "python",
   "nbconvert_exporter": "python",
   "pygments_lexer": "ipython3",
   "version": "3.11.8"
  }
 },
 "nbformat": 4,
 "nbformat_minor": 2
}
