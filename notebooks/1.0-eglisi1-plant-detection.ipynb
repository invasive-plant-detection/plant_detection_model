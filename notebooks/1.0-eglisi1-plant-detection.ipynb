{
 "cells": [
  {
   "cell_type": "markdown",
   "metadata": {},
   "source": [
    "# basic plant detection for starting Bachelor thesis"
   ]
  },
  {
   "cell_type": "markdown",
   "metadata": {},
   "source": [
    "## read metadata"
   ]
  },
  {
   "cell_type": "code",
   "execution_count": 1,
   "metadata": {},
   "outputs": [
    {
     "name": "stdout",
     "output_type": "stream",
     "text": [
      "   classid                                    image_name  \\\n",
      "0  2683260  d0749fe4f8ade13dd9402b0f43bc29e8f28af27a.jpg   \n",
      "1  2683260  7549c8ddadd95d996e10aa76f8e39bedb059c637.jpg   \n",
      "2  2683260  8c6049ebdff482b901f32e0ac9e421c69bc652b4.jpg   \n",
      "3  2683260  b932fd8619c667a5b4f3c38596911937a2692b26.jpg   \n",
      "4  2683260  9f9dbdb0b9ce8bc3fb562f648af7717b5511b597.jpg   \n",
      "\n",
      "                                          image_path               species  \\\n",
      "0  2683260/d0749fe4f8ade13dd9402b0f43bc29e8f28af2...  Cycas angulata R.Br.   \n",
      "1  2683260/7549c8ddadd95d996e10aa76f8e39bedb059c6...  Cycas angulata R.Br.   \n",
      "2  2683260/8c6049ebdff482b901f32e0ac9e421c69bc652...  Cycas angulata R.Br.   \n",
      "3  2683260/b932fd8619c667a5b4f3c38596911937a2692b...  Cycas angulata R.Br.   \n",
      "4  2683260/9f9dbdb0b9ce8bc3fb562f648af7717b5511b5...  Cycas angulata R.Br.   \n",
      "\n",
      "   genus      family      order        class source manual_tag predicted_tag  \\\n",
      "0  Cycas  Cycadaceae  Cycadales  Cycadopsida    NaN        NaN         habit   \n",
      "1  Cycas  Cycadaceae  Cycadales  Cycadopsida    NaN        NaN         habit   \n",
      "2  Cycas  Cycadaceae  Cycadales  Cycadopsida    NaN        NaN         habit   \n",
      "3  Cycas  Cycadaceae  Cycadales  Cycadopsida    NaN        NaN         habit   \n",
      "4  Cycas  Cycadaceae  Cycadales  Cycadopsida    NaN        NaN         habit   \n",
      "\n",
      "   predicted_tag_probability  \\\n",
      "0                     0.7386   \n",
      "1                     0.7938   \n",
      "2                     0.8785   \n",
      "3                     0.9218   \n",
      "4                     0.9318   \n",
      "\n",
      "                                        original_url  \\\n",
      "0  https://images.ala.org.au/image/proxyImageThum...   \n",
      "1  https://images.ala.org.au/image/proxyImageThum...   \n",
      "2  https://images.ala.org.au/image/proxyImageThum...   \n",
      "3  https://images.ala.org.au/image/proxyImageThum...   \n",
      "4  https://images.ala.org.au/image/proxyImageThum...   \n",
      "\n",
      "                                       license  \\\n",
      "0  http://creativecommons.org/licenses/by/4.0/   \n",
      "1  http://creativecommons.org/licenses/by/4.0/   \n",
      "2  http://creativecommons.org/licenses/by/4.0/   \n",
      "3  http://creativecommons.org/licenses/by/4.0/   \n",
      "4  http://creativecommons.org/licenses/by/4.0/   \n",
      "\n",
      "                           publisher  gbif_occurrence_id aggregator  \\\n",
      "0  ALA species sightings and OzAtlas        1.632965e+09       gbif   \n",
      "1  ALA species sightings and OzAtlas        1.632965e+09       gbif   \n",
      "2  ALA species sightings and OzAtlas        1.632965e+09       gbif   \n",
      "3  ALA species sightings and OzAtlas        1.632965e+09       gbif   \n",
      "4  ALA species sightings and OzAtlas        1.632965e+09       gbif   \n",
      "\n",
      "                            dataset_key  \\\n",
      "0  84a649ce-ff81-420d-9c41-aa1de59e3766   \n",
      "1  84a649ce-ff81-420d-9c41-aa1de59e3766   \n",
      "2  84a649ce-ff81-420d-9c41-aa1de59e3766   \n",
      "3  84a649ce-ff81-420d-9c41-aa1de59e3766   \n",
      "4  84a649ce-ff81-420d-9c41-aa1de59e3766   \n",
      "\n",
      "                                    image_backup_url  \n",
      "0  https://lab.plantnet.org/LifeCLEF/PlantCLEF202...  \n",
      "1  https://lab.plantnet.org/LifeCLEF/PlantCLEF202...  \n",
      "2  https://lab.plantnet.org/LifeCLEF/PlantCLEF202...  \n",
      "3  https://lab.plantnet.org/LifeCLEF/PlantCLEF202...  \n",
      "4  https://lab.plantnet.org/LifeCLEF/PlantCLEF202...  \n"
     ]
    },
    {
     "name": "stderr",
     "output_type": "stream",
     "text": [
      "/var/folders/tl/zxb0jl8951j9q7tl76bjx2n40000gn/T/ipykernel_89122/4198679769.py:3: DeprecationWarning: \n",
      "Pyarrow will become a required dependency of pandas in the next major release of pandas (pandas 3.0),\n",
      "(to allow more performant data types, such as the Arrow string type, and better interoperability with other libraries)\n",
      "but was not found to be installed on your system.\n",
      "If this would cause problems for you,\n",
      "please provide us feedback at https://github.com/pandas-dev/pandas/issues/54466\n",
      "        \n",
      "  import pandas as pd\n"
     ]
    }
   ],
   "source": [
    "# load data PlantCLEF2022_trusted_training_metadata.csv form /data/01_raw/PlantCLEF2022_trusted_training_metadata.csv\n",
    "\n",
    "import pandas as pd\n",
    "\n",
    "amount_pictures = 1_000\n",
    "file_path = \"../data/01_raw/PlantCLEF2022_trusted_training_metadata.csv\"\n",
    "try:\n",
    "    data = pd.read_csv(file_path, delimiter=\";\", nrows=amount_pictures)\n",
    "    if data.empty:\n",
    "        print(\"The CSV file is empty\")\n",
    "    else:\n",
    "        print(data.head())\n",
    "\n",
    "except FileNotFoundError:\n",
    "    print(\n",
    "        f\"File not found: {file_path}. Please check the file path and that the file is downloaded.\"\n",
    "    )"
   ]
  },
  {
   "cell_type": "markdown",
   "metadata": {},
   "source": [
    "## remove unnecessary columns"
   ]
  },
  {
   "cell_type": "code",
   "execution_count": 2,
   "metadata": {},
   "outputs": [],
   "source": [
    "# remove column 'Unnamed: 0'\n",
    "data = data.drop(\n",
    "    columns=[\n",
    "        \"image_name\",\n",
    "        \"source\",\n",
    "        \"manual_tag\",\n",
    "        \"predicted_tag\",\n",
    "        \"predicted_tag_probability\",\n",
    "        \"original_url\",\n",
    "        \"license\",\n",
    "        \"publisher\",\n",
    "        \"gbif_occurrence_id\",\n",
    "        \"aggregator\",\n",
    "        \"dataset_key\",\n",
    "    ]\n",
    ")"
   ]
  },
  {
   "cell_type": "markdown",
   "metadata": {},
   "source": [
    "## delete already existing files"
   ]
  },
  {
   "cell_type": "code",
   "execution_count": 3,
   "metadata": {},
   "outputs": [],
   "source": [
    "import os\n",
    "\n",
    "temp_dir = \"temp\"\n",
    "\n",
    "# delete and create tmp dir to ensure it's empty\n",
    "os.system(f\"rm -rf {temp_dir}\")\n",
    "\n",
    "# Ensure the tmp/ directory exists\n",
    "os.makedirs(temp_dir, exist_ok=True)"
   ]
  },
  {
   "cell_type": "markdown",
   "metadata": {},
   "source": [
    "## download data per plant parallelized"
   ]
  },
  {
   "cell_type": "code",
   "execution_count": 4,
   "metadata": {},
   "outputs": [],
   "source": [
    "import requests\n",
    "import os\n",
    "from concurrent.futures import ThreadPoolExecutor\n",
    "\n",
    "\n",
    "def download_image(index_url):\n",
    "    index, url = index_url\n",
    "    try:\n",
    "        response = requests.get(url)\n",
    "        file_path = os.path.join(temp_dir, f\"{index}.jpg\")\n",
    "\n",
    "        with open(file_path, \"wb\") as file:\n",
    "            file.write(response.content)\n",
    "        # print(f\"Downloaded {url} to {file_path}\")\n",
    "    except Exception as e:\n",
    "        print(f\"Error downloading {url}: {e}\")\n",
    "\n",
    "\n",
    "# Prepare a list of tuples containing the index and URL for each image\n",
    "index_url_list = [(index, row[\"image_backup_url\"]) for index, row in data.iterrows()]\n",
    "\n",
    "# Use ThreadPoolExecutor to download images in parallel\n",
    "with ThreadPoolExecutor(max_workers=5) as executor:\n",
    "    executor.map(download_image, index_url_list)"
   ]
  },
  {
   "cell_type": "markdown",
   "metadata": {},
   "source": [
    "## add image path to metadata"
   ]
  },
  {
   "cell_type": "code",
   "execution_count": 5,
   "metadata": {},
   "outputs": [
    {
     "data": {
      "text/html": [
       "<div>\n",
       "<style scoped>\n",
       "    .dataframe tbody tr th:only-of-type {\n",
       "        vertical-align: middle;\n",
       "    }\n",
       "\n",
       "    .dataframe tbody tr th {\n",
       "        vertical-align: top;\n",
       "    }\n",
       "\n",
       "    .dataframe thead th {\n",
       "        text-align: right;\n",
       "    }\n",
       "</style>\n",
       "<table border=\"1\" class=\"dataframe\">\n",
       "  <thead>\n",
       "    <tr style=\"text-align: right;\">\n",
       "      <th></th>\n",
       "      <th>classid</th>\n",
       "      <th>image_path</th>\n",
       "      <th>species</th>\n",
       "      <th>genus</th>\n",
       "      <th>family</th>\n",
       "      <th>order</th>\n",
       "      <th>class</th>\n",
       "      <th>image_backup_url</th>\n",
       "    </tr>\n",
       "  </thead>\n",
       "  <tbody>\n",
       "    <tr>\n",
       "      <th>0</th>\n",
       "      <td>2683260</td>\n",
       "      <td>temp/0.jpg</td>\n",
       "      <td>Cycas angulata R.Br.</td>\n",
       "      <td>Cycas</td>\n",
       "      <td>Cycadaceae</td>\n",
       "      <td>Cycadales</td>\n",
       "      <td>Cycadopsida</td>\n",
       "      <td>https://lab.plantnet.org/LifeCLEF/PlantCLEF202...</td>\n",
       "    </tr>\n",
       "    <tr>\n",
       "      <th>1</th>\n",
       "      <td>2683260</td>\n",
       "      <td>temp/1.jpg</td>\n",
       "      <td>Cycas angulata R.Br.</td>\n",
       "      <td>Cycas</td>\n",
       "      <td>Cycadaceae</td>\n",
       "      <td>Cycadales</td>\n",
       "      <td>Cycadopsida</td>\n",
       "      <td>https://lab.plantnet.org/LifeCLEF/PlantCLEF202...</td>\n",
       "    </tr>\n",
       "    <tr>\n",
       "      <th>2</th>\n",
       "      <td>2683260</td>\n",
       "      <td>temp/2.jpg</td>\n",
       "      <td>Cycas angulata R.Br.</td>\n",
       "      <td>Cycas</td>\n",
       "      <td>Cycadaceae</td>\n",
       "      <td>Cycadales</td>\n",
       "      <td>Cycadopsida</td>\n",
       "      <td>https://lab.plantnet.org/LifeCLEF/PlantCLEF202...</td>\n",
       "    </tr>\n",
       "    <tr>\n",
       "      <th>3</th>\n",
       "      <td>2683260</td>\n",
       "      <td>temp/3.jpg</td>\n",
       "      <td>Cycas angulata R.Br.</td>\n",
       "      <td>Cycas</td>\n",
       "      <td>Cycadaceae</td>\n",
       "      <td>Cycadales</td>\n",
       "      <td>Cycadopsida</td>\n",
       "      <td>https://lab.plantnet.org/LifeCLEF/PlantCLEF202...</td>\n",
       "    </tr>\n",
       "    <tr>\n",
       "      <th>4</th>\n",
       "      <td>2683260</td>\n",
       "      <td>temp/4.jpg</td>\n",
       "      <td>Cycas angulata R.Br.</td>\n",
       "      <td>Cycas</td>\n",
       "      <td>Cycadaceae</td>\n",
       "      <td>Cycadales</td>\n",
       "      <td>Cycadopsida</td>\n",
       "      <td>https://lab.plantnet.org/LifeCLEF/PlantCLEF202...</td>\n",
       "    </tr>\n",
       "  </tbody>\n",
       "</table>\n",
       "</div>"
      ],
      "text/plain": [
       "   classid  image_path               species  genus      family      order  \\\n",
       "0  2683260  temp/0.jpg  Cycas angulata R.Br.  Cycas  Cycadaceae  Cycadales   \n",
       "1  2683260  temp/1.jpg  Cycas angulata R.Br.  Cycas  Cycadaceae  Cycadales   \n",
       "2  2683260  temp/2.jpg  Cycas angulata R.Br.  Cycas  Cycadaceae  Cycadales   \n",
       "3  2683260  temp/3.jpg  Cycas angulata R.Br.  Cycas  Cycadaceae  Cycadales   \n",
       "4  2683260  temp/4.jpg  Cycas angulata R.Br.  Cycas  Cycadaceae  Cycadales   \n",
       "\n",
       "         class                                   image_backup_url  \n",
       "0  Cycadopsida  https://lab.plantnet.org/LifeCLEF/PlantCLEF202...  \n",
       "1  Cycadopsida  https://lab.plantnet.org/LifeCLEF/PlantCLEF202...  \n",
       "2  Cycadopsida  https://lab.plantnet.org/LifeCLEF/PlantCLEF202...  \n",
       "3  Cycadopsida  https://lab.plantnet.org/LifeCLEF/PlantCLEF202...  \n",
       "4  Cycadopsida  https://lab.plantnet.org/LifeCLEF/PlantCLEF202...  "
      ]
     },
     "execution_count": 5,
     "metadata": {},
     "output_type": "execute_result"
    }
   ],
   "source": [
    "data[\"image_path\"] = [f\"{temp_dir}/{index}.jpg\" for index in data.index]\n",
    "data.head()"
   ]
  },
  {
   "cell_type": "markdown",
   "metadata": {},
   "source": [
    "## prepare data"
   ]
  },
  {
   "cell_type": "code",
   "execution_count": 6,
   "metadata": {},
   "outputs": [
    {
     "name": "stdout",
     "output_type": "stream",
     "text": [
      "Found 800 validated image filenames belonging to 62 classes.\n",
      "Found 200 validated image filenames belonging to 46 classes.\n"
     ]
    }
   ],
   "source": [
    "from tensorflow.keras.preprocessing.image import ImageDataGenerator\n",
    "from sklearn.model_selection import train_test_split\n",
    "\n",
    "target_column = \"species\"\n",
    "\n",
    "# Split the dataset into training and validation sets\n",
    "train_data, valid_data = train_test_split(data, test_size=0.2, random_state=42)\n",
    "\n",
    "# Create ImageDataGenerators for data augmentation and normalization\n",
    "train_datagen = ImageDataGenerator(\n",
    "    rescale=1.0 / 255,\n",
    "    rotation_range=40,\n",
    "    width_shift_range=0.2,\n",
    "    height_shift_range=0.2,\n",
    "    shear_range=0.2,\n",
    "    zoom_range=0.2,\n",
    "    horizontal_flip=True,\n",
    "    fill_mode=\"nearest\",\n",
    ")\n",
    "\n",
    "valid_datagen = ImageDataGenerator(rescale=1.0 / 255)\n",
    "\n",
    "# Create generators that read images from the dataframe\n",
    "train_generator = train_datagen.flow_from_dataframe(\n",
    "    dataframe=train_data,\n",
    "    directory=None,  # Directory is None because paths are given in dataframe\n",
    "    x_col=\"image_path\",\n",
    "    y_col=target_column,\n",
    "    target_size=(150, 150),\n",
    "    batch_size=32,\n",
    "    class_mode=\"categorical\",\n",
    ")\n",
    "\n",
    "valid_generator = valid_datagen.flow_from_dataframe(\n",
    "    dataframe=valid_data,\n",
    "    directory=None,\n",
    "    x_col=\"image_path\",\n",
    "    y_col=target_column,\n",
    "    target_size=(150, 150),\n",
    "    batch_size=32,\n",
    "    class_mode=\"categorical\",\n",
    ")"
   ]
  },
  {
   "cell_type": "markdown",
   "metadata": {},
   "source": [
    "## Model building"
   ]
  },
  {
   "cell_type": "code",
   "execution_count": 9,
   "metadata": {},
   "outputs": [],
   "source": [
    "from tensorflow.keras.applications import ResNet50\n",
    "from tensorflow.keras.layers import GlobalAveragePooling2D, Dense\n",
    "from tensorflow.keras.models import Model\n",
    "\n",
    "# amount distinct values of classid\n",
    "number_of_plant_classes = len(data[target_column].unique()) - 1\n",
    "\n",
    "# Load pre-trained ResNet50 model, excluding the top layer\n",
    "base_model = ResNet50(weights=\"imagenet\", include_top=False, input_shape=(224, 224, 3))\n",
    "\n",
    "# Freeze the layers except the last 4 layers\n",
    "for layer in base_model.layers[:-4]:\n",
    "    layer.trainable = False\n",
    "\n",
    "# Add new top layers\n",
    "x = base_model.output\n",
    "x = GlobalAveragePooling2D()(x)\n",
    "x = Dense(1024, activation=\"relu\")(x)  # New FC layer, random init\n",
    "predictions = Dense(number_of_plant_classes, activation=\"softmax\")(\n",
    "    x\n",
    ")  # New softmax layer\n",
    "\n",
    "# Final model\n",
    "model = Model(inputs=base_model.input, outputs=predictions)\n",
    "\n",
    "# Compile the model (should be done *after* setting layers to non-trainable)\n",
    "model.compile(optimizer=\"adam\", loss=\"categorical_crossentropy\", metrics=[\"accuracy\"])"
   ]
  },
  {
   "cell_type": "markdown",
   "metadata": {},
   "source": [
    "## Model training"
   ]
  },
  {
   "cell_type": "code",
   "execution_count": 11,
   "metadata": {},
   "outputs": [
    {
     "name": "stdout",
     "output_type": "stream",
     "text": [
      "Epoch 1/5\n",
      "10/10 [==============================] - ETA: 0s - loss: 3.3308 - accuracy: 0.1187"
     ]
    },
    {
     "ename": "InvalidArgumentError",
     "evalue": "Graph execution error:\n\nDetected at node categorical_crossentropy/softmax_cross_entropy_with_logits defined at (most recent call last):\n  File \"<frozen runpy>\", line 198, in _run_module_as_main\n\n  File \"<frozen runpy>\", line 88, in _run_code\n\n  File \"/Users/simi/workarea/vscode/bachelor/plant_detection_model/venv/lib/python3.11/site-packages/ipykernel_launcher.py\", line 18, in <module>\n\n  File \"/Users/simi/workarea/vscode/bachelor/plant_detection_model/venv/lib/python3.11/site-packages/traitlets/config/application.py\", line 1075, in launch_instance\n\n  File \"/Users/simi/workarea/vscode/bachelor/plant_detection_model/venv/lib/python3.11/site-packages/ipykernel/kernelapp.py\", line 739, in start\n\n  File \"/Users/simi/workarea/vscode/bachelor/plant_detection_model/venv/lib/python3.11/site-packages/tornado/platform/asyncio.py\", line 205, in start\n\n  File \"/opt/homebrew/Cellar/python@3.11/3.11.6_1/Frameworks/Python.framework/Versions/3.11/lib/python3.11/asyncio/base_events.py\", line 607, in run_forever\n\n  File \"/opt/homebrew/Cellar/python@3.11/3.11.6_1/Frameworks/Python.framework/Versions/3.11/lib/python3.11/asyncio/base_events.py\", line 1922, in _run_once\n\n  File \"/opt/homebrew/Cellar/python@3.11/3.11.6_1/Frameworks/Python.framework/Versions/3.11/lib/python3.11/asyncio/events.py\", line 80, in _run\n\n  File \"/Users/simi/workarea/vscode/bachelor/plant_detection_model/venv/lib/python3.11/site-packages/ipykernel/kernelbase.py\", line 542, in dispatch_queue\n\n  File \"/Users/simi/workarea/vscode/bachelor/plant_detection_model/venv/lib/python3.11/site-packages/ipykernel/kernelbase.py\", line 531, in process_one\n\n  File \"/Users/simi/workarea/vscode/bachelor/plant_detection_model/venv/lib/python3.11/site-packages/ipykernel/kernelbase.py\", line 437, in dispatch_shell\n\n  File \"/Users/simi/workarea/vscode/bachelor/plant_detection_model/venv/lib/python3.11/site-packages/ipykernel/ipkernel.py\", line 359, in execute_request\n\n  File \"/Users/simi/workarea/vscode/bachelor/plant_detection_model/venv/lib/python3.11/site-packages/ipykernel/kernelbase.py\", line 775, in execute_request\n\n  File \"/Users/simi/workarea/vscode/bachelor/plant_detection_model/venv/lib/python3.11/site-packages/ipykernel/ipkernel.py\", line 446, in do_execute\n\n  File \"/Users/simi/workarea/vscode/bachelor/plant_detection_model/venv/lib/python3.11/site-packages/ipykernel/zmqshell.py\", line 549, in run_cell\n\n  File \"/Users/simi/workarea/vscode/bachelor/plant_detection_model/venv/lib/python3.11/site-packages/IPython/core/interactiveshell.py\", line 3051, in run_cell\n\n  File \"/Users/simi/workarea/vscode/bachelor/plant_detection_model/venv/lib/python3.11/site-packages/IPython/core/interactiveshell.py\", line 3106, in _run_cell\n\n  File \"/Users/simi/workarea/vscode/bachelor/plant_detection_model/venv/lib/python3.11/site-packages/IPython/core/async_helpers.py\", line 129, in _pseudo_sync_runner\n\n  File \"/Users/simi/workarea/vscode/bachelor/plant_detection_model/venv/lib/python3.11/site-packages/IPython/core/interactiveshell.py\", line 3311, in run_cell_async\n\n  File \"/Users/simi/workarea/vscode/bachelor/plant_detection_model/venv/lib/python3.11/site-packages/IPython/core/interactiveshell.py\", line 3493, in run_ast_nodes\n\n  File \"/Users/simi/workarea/vscode/bachelor/plant_detection_model/venv/lib/python3.11/site-packages/IPython/core/interactiveshell.py\", line 3553, in run_code\n\n  File \"/var/folders/tl/zxb0jl8951j9q7tl76bjx2n40000gn/T/ipykernel_89122/3223925112.py\", line 1, in <module>\n\n  File \"/Users/simi/workarea/vscode/bachelor/plant_detection_model/venv/lib/python3.11/site-packages/keras/src/utils/traceback_utils.py\", line 65, in error_handler\n\n  File \"/Users/simi/workarea/vscode/bachelor/plant_detection_model/venv/lib/python3.11/site-packages/keras/src/engine/training.py\", line 1856, in fit\n\n  File \"/Users/simi/workarea/vscode/bachelor/plant_detection_model/venv/lib/python3.11/site-packages/keras/src/utils/traceback_utils.py\", line 65, in error_handler\n\n  File \"/Users/simi/workarea/vscode/bachelor/plant_detection_model/venv/lib/python3.11/site-packages/keras/src/engine/training.py\", line 2296, in evaluate\n\n  File \"/Users/simi/workarea/vscode/bachelor/plant_detection_model/venv/lib/python3.11/site-packages/keras/src/engine/training.py\", line 4108, in run_step\n\n  File \"/Users/simi/workarea/vscode/bachelor/plant_detection_model/venv/lib/python3.11/site-packages/keras/src/engine/training.py\", line 2066, in test_function\n\n  File \"/Users/simi/workarea/vscode/bachelor/plant_detection_model/venv/lib/python3.11/site-packages/keras/src/engine/training.py\", line 2049, in step_function\n\n  File \"/Users/simi/workarea/vscode/bachelor/plant_detection_model/venv/lib/python3.11/site-packages/keras/src/engine/training.py\", line 2037, in run_step\n\n  File \"/Users/simi/workarea/vscode/bachelor/plant_detection_model/venv/lib/python3.11/site-packages/keras/src/engine/training.py\", line 1919, in test_step\n\n  File \"/Users/simi/workarea/vscode/bachelor/plant_detection_model/venv/lib/python3.11/site-packages/keras/src/engine/training.py\", line 1209, in compute_loss\n\n  File \"/Users/simi/workarea/vscode/bachelor/plant_detection_model/venv/lib/python3.11/site-packages/keras/src/engine/compile_utils.py\", line 277, in __call__\n\n  File \"/Users/simi/workarea/vscode/bachelor/plant_detection_model/venv/lib/python3.11/site-packages/keras/src/losses.py\", line 143, in __call__\n\n  File \"/Users/simi/workarea/vscode/bachelor/plant_detection_model/venv/lib/python3.11/site-packages/keras/src/losses.py\", line 270, in call\n\n  File \"/Users/simi/workarea/vscode/bachelor/plant_detection_model/venv/lib/python3.11/site-packages/keras/src/losses.py\", line 2221, in categorical_crossentropy\n\n  File \"/Users/simi/workarea/vscode/bachelor/plant_detection_model/venv/lib/python3.11/site-packages/keras/src/backend.py\", line 5579, in categorical_crossentropy\n\nlogits and labels must be broadcastable: logits_size=[32,62] labels_size=[32,46]\n\t [[{{node categorical_crossentropy/softmax_cross_entropy_with_logits}}]] [Op:__inference_test_function_19391]",
     "output_type": "error",
     "traceback": [
      "\u001b[0;31m---------------------------------------------------------------------------\u001b[0m",
      "\u001b[0;31mInvalidArgumentError\u001b[0m                      Traceback (most recent call last)",
      "Cell \u001b[0;32mIn[11], line 1\u001b[0m\n\u001b[0;32m----> 1\u001b[0m history \u001b[38;5;241m=\u001b[39m \u001b[43mmodel\u001b[49m\u001b[38;5;241;43m.\u001b[39;49m\u001b[43mfit\u001b[49m\u001b[43m(\u001b[49m\n\u001b[1;32m      2\u001b[0m \u001b[43m    \u001b[49m\u001b[43mtrain_generator\u001b[49m\u001b[43m,\u001b[49m\n\u001b[1;32m      3\u001b[0m \u001b[43m    \u001b[49m\u001b[43msteps_per_epoch\u001b[49m\u001b[38;5;241;43m=\u001b[39;49m\u001b[38;5;241;43m10\u001b[39;49m\u001b[43m,\u001b[49m\u001b[43m  \u001b[49m\u001b[38;5;66;43;03m# Number of batches per epoch, adjust based on your data size\u001b[39;49;00m\n\u001b[1;32m      4\u001b[0m \u001b[43m    \u001b[49m\u001b[43mepochs\u001b[49m\u001b[38;5;241;43m=\u001b[39;49m\u001b[38;5;241;43m5\u001b[39;49m\u001b[43m,\u001b[49m\n\u001b[1;32m      5\u001b[0m \u001b[43m    \u001b[49m\u001b[43mvalidation_data\u001b[49m\u001b[38;5;241;43m=\u001b[39;49m\u001b[43mvalid_generator\u001b[49m\u001b[43m,\u001b[49m\n\u001b[1;32m      6\u001b[0m \u001b[43m    \u001b[49m\u001b[43mvalidation_steps\u001b[49m\u001b[38;5;241;43m=\u001b[39;49m\u001b[38;5;241;43m50\u001b[39;49m\u001b[43m  \u001b[49m\u001b[38;5;66;43;03m# Adjust based on your validation data size\u001b[39;49;00m\n\u001b[1;32m      7\u001b[0m \u001b[43m)\u001b[49m\n",
      "File \u001b[0;32m~/workarea/vscode/bachelor/plant_detection_model/venv/lib/python3.11/site-packages/keras/src/utils/traceback_utils.py:70\u001b[0m, in \u001b[0;36mfilter_traceback.<locals>.error_handler\u001b[0;34m(*args, **kwargs)\u001b[0m\n\u001b[1;32m     67\u001b[0m     filtered_tb \u001b[38;5;241m=\u001b[39m _process_traceback_frames(e\u001b[38;5;241m.\u001b[39m__traceback__)\n\u001b[1;32m     68\u001b[0m     \u001b[38;5;66;03m# To get the full stack trace, call:\u001b[39;00m\n\u001b[1;32m     69\u001b[0m     \u001b[38;5;66;03m# `tf.debugging.disable_traceback_filtering()`\u001b[39;00m\n\u001b[0;32m---> 70\u001b[0m     \u001b[38;5;28;01mraise\u001b[39;00m e\u001b[38;5;241m.\u001b[39mwith_traceback(filtered_tb) \u001b[38;5;28;01mfrom\u001b[39;00m \u001b[38;5;28;01mNone\u001b[39;00m\n\u001b[1;32m     71\u001b[0m \u001b[38;5;28;01mfinally\u001b[39;00m:\n\u001b[1;32m     72\u001b[0m     \u001b[38;5;28;01mdel\u001b[39;00m filtered_tb\n",
      "File \u001b[0;32m~/workarea/vscode/bachelor/plant_detection_model/venv/lib/python3.11/site-packages/tensorflow/python/eager/execute.py:53\u001b[0m, in \u001b[0;36mquick_execute\u001b[0;34m(op_name, num_outputs, inputs, attrs, ctx, name)\u001b[0m\n\u001b[1;32m     51\u001b[0m \u001b[38;5;28;01mtry\u001b[39;00m:\n\u001b[1;32m     52\u001b[0m   ctx\u001b[38;5;241m.\u001b[39mensure_initialized()\n\u001b[0;32m---> 53\u001b[0m   tensors \u001b[38;5;241m=\u001b[39m pywrap_tfe\u001b[38;5;241m.\u001b[39mTFE_Py_Execute(ctx\u001b[38;5;241m.\u001b[39m_handle, device_name, op_name,\n\u001b[1;32m     54\u001b[0m                                       inputs, attrs, num_outputs)\n\u001b[1;32m     55\u001b[0m \u001b[38;5;28;01mexcept\u001b[39;00m core\u001b[38;5;241m.\u001b[39m_NotOkStatusException \u001b[38;5;28;01mas\u001b[39;00m e:\n\u001b[1;32m     56\u001b[0m   \u001b[38;5;28;01mif\u001b[39;00m name \u001b[38;5;129;01mis\u001b[39;00m \u001b[38;5;129;01mnot\u001b[39;00m \u001b[38;5;28;01mNone\u001b[39;00m:\n",
      "\u001b[0;31mInvalidArgumentError\u001b[0m: Graph execution error:\n\nDetected at node categorical_crossentropy/softmax_cross_entropy_with_logits defined at (most recent call last):\n  File \"<frozen runpy>\", line 198, in _run_module_as_main\n\n  File \"<frozen runpy>\", line 88, in _run_code\n\n  File \"/Users/simi/workarea/vscode/bachelor/plant_detection_model/venv/lib/python3.11/site-packages/ipykernel_launcher.py\", line 18, in <module>\n\n  File \"/Users/simi/workarea/vscode/bachelor/plant_detection_model/venv/lib/python3.11/site-packages/traitlets/config/application.py\", line 1075, in launch_instance\n\n  File \"/Users/simi/workarea/vscode/bachelor/plant_detection_model/venv/lib/python3.11/site-packages/ipykernel/kernelapp.py\", line 739, in start\n\n  File \"/Users/simi/workarea/vscode/bachelor/plant_detection_model/venv/lib/python3.11/site-packages/tornado/platform/asyncio.py\", line 205, in start\n\n  File \"/opt/homebrew/Cellar/python@3.11/3.11.6_1/Frameworks/Python.framework/Versions/3.11/lib/python3.11/asyncio/base_events.py\", line 607, in run_forever\n\n  File \"/opt/homebrew/Cellar/python@3.11/3.11.6_1/Frameworks/Python.framework/Versions/3.11/lib/python3.11/asyncio/base_events.py\", line 1922, in _run_once\n\n  File \"/opt/homebrew/Cellar/python@3.11/3.11.6_1/Frameworks/Python.framework/Versions/3.11/lib/python3.11/asyncio/events.py\", line 80, in _run\n\n  File \"/Users/simi/workarea/vscode/bachelor/plant_detection_model/venv/lib/python3.11/site-packages/ipykernel/kernelbase.py\", line 542, in dispatch_queue\n\n  File \"/Users/simi/workarea/vscode/bachelor/plant_detection_model/venv/lib/python3.11/site-packages/ipykernel/kernelbase.py\", line 531, in process_one\n\n  File \"/Users/simi/workarea/vscode/bachelor/plant_detection_model/venv/lib/python3.11/site-packages/ipykernel/kernelbase.py\", line 437, in dispatch_shell\n\n  File \"/Users/simi/workarea/vscode/bachelor/plant_detection_model/venv/lib/python3.11/site-packages/ipykernel/ipkernel.py\", line 359, in execute_request\n\n  File \"/Users/simi/workarea/vscode/bachelor/plant_detection_model/venv/lib/python3.11/site-packages/ipykernel/kernelbase.py\", line 775, in execute_request\n\n  File \"/Users/simi/workarea/vscode/bachelor/plant_detection_model/venv/lib/python3.11/site-packages/ipykernel/ipkernel.py\", line 446, in do_execute\n\n  File \"/Users/simi/workarea/vscode/bachelor/plant_detection_model/venv/lib/python3.11/site-packages/ipykernel/zmqshell.py\", line 549, in run_cell\n\n  File \"/Users/simi/workarea/vscode/bachelor/plant_detection_model/venv/lib/python3.11/site-packages/IPython/core/interactiveshell.py\", line 3051, in run_cell\n\n  File \"/Users/simi/workarea/vscode/bachelor/plant_detection_model/venv/lib/python3.11/site-packages/IPython/core/interactiveshell.py\", line 3106, in _run_cell\n\n  File \"/Users/simi/workarea/vscode/bachelor/plant_detection_model/venv/lib/python3.11/site-packages/IPython/core/async_helpers.py\", line 129, in _pseudo_sync_runner\n\n  File \"/Users/simi/workarea/vscode/bachelor/plant_detection_model/venv/lib/python3.11/site-packages/IPython/core/interactiveshell.py\", line 3311, in run_cell_async\n\n  File \"/Users/simi/workarea/vscode/bachelor/plant_detection_model/venv/lib/python3.11/site-packages/IPython/core/interactiveshell.py\", line 3493, in run_ast_nodes\n\n  File \"/Users/simi/workarea/vscode/bachelor/plant_detection_model/venv/lib/python3.11/site-packages/IPython/core/interactiveshell.py\", line 3553, in run_code\n\n  File \"/var/folders/tl/zxb0jl8951j9q7tl76bjx2n40000gn/T/ipykernel_89122/3223925112.py\", line 1, in <module>\n\n  File \"/Users/simi/workarea/vscode/bachelor/plant_detection_model/venv/lib/python3.11/site-packages/keras/src/utils/traceback_utils.py\", line 65, in error_handler\n\n  File \"/Users/simi/workarea/vscode/bachelor/plant_detection_model/venv/lib/python3.11/site-packages/keras/src/engine/training.py\", line 1856, in fit\n\n  File \"/Users/simi/workarea/vscode/bachelor/plant_detection_model/venv/lib/python3.11/site-packages/keras/src/utils/traceback_utils.py\", line 65, in error_handler\n\n  File \"/Users/simi/workarea/vscode/bachelor/plant_detection_model/venv/lib/python3.11/site-packages/keras/src/engine/training.py\", line 2296, in evaluate\n\n  File \"/Users/simi/workarea/vscode/bachelor/plant_detection_model/venv/lib/python3.11/site-packages/keras/src/engine/training.py\", line 4108, in run_step\n\n  File \"/Users/simi/workarea/vscode/bachelor/plant_detection_model/venv/lib/python3.11/site-packages/keras/src/engine/training.py\", line 2066, in test_function\n\n  File \"/Users/simi/workarea/vscode/bachelor/plant_detection_model/venv/lib/python3.11/site-packages/keras/src/engine/training.py\", line 2049, in step_function\n\n  File \"/Users/simi/workarea/vscode/bachelor/plant_detection_model/venv/lib/python3.11/site-packages/keras/src/engine/training.py\", line 2037, in run_step\n\n  File \"/Users/simi/workarea/vscode/bachelor/plant_detection_model/venv/lib/python3.11/site-packages/keras/src/engine/training.py\", line 1919, in test_step\n\n  File \"/Users/simi/workarea/vscode/bachelor/plant_detection_model/venv/lib/python3.11/site-packages/keras/src/engine/training.py\", line 1209, in compute_loss\n\n  File \"/Users/simi/workarea/vscode/bachelor/plant_detection_model/venv/lib/python3.11/site-packages/keras/src/engine/compile_utils.py\", line 277, in __call__\n\n  File \"/Users/simi/workarea/vscode/bachelor/plant_detection_model/venv/lib/python3.11/site-packages/keras/src/losses.py\", line 143, in __call__\n\n  File \"/Users/simi/workarea/vscode/bachelor/plant_detection_model/venv/lib/python3.11/site-packages/keras/src/losses.py\", line 270, in call\n\n  File \"/Users/simi/workarea/vscode/bachelor/plant_detection_model/venv/lib/python3.11/site-packages/keras/src/losses.py\", line 2221, in categorical_crossentropy\n\n  File \"/Users/simi/workarea/vscode/bachelor/plant_detection_model/venv/lib/python3.11/site-packages/keras/src/backend.py\", line 5579, in categorical_crossentropy\n\nlogits and labels must be broadcastable: logits_size=[32,62] labels_size=[32,46]\n\t [[{{node categorical_crossentropy/softmax_cross_entropy_with_logits}}]] [Op:__inference_test_function_19391]"
     ]
    }
   ],
   "source": [
    "history = model.fit(\n",
    "    train_generator,\n",
    "    steps_per_epoch=10,  # Number of batches per epoch, adjust based on your data size\n",
    "    epochs=5,\n",
    "    validation_data=valid_generator,\n",
    "    validation_steps=50  # Adjust based on your validation data size\n",
    ")"
   ]
  }
 ],
 "metadata": {
  "kernelspec": {
   "display_name": "venv",
   "language": "python",
   "name": "python3"
  },
  "language_info": {
   "codemirror_mode": {
    "name": "ipython",
    "version": 3
   },
   "file_extension": ".py",
   "mimetype": "text/x-python",
   "name": "python",
   "nbconvert_exporter": "python",
   "pygments_lexer": "ipython3",
   "version": "3.11.6"
  }
 },
 "nbformat": 4,
 "nbformat_minor": 2
}
